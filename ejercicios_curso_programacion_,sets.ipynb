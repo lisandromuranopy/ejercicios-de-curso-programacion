{
  "nbformat": 4,
  "nbformat_minor": 0,
  "metadata": {
    "colab": {
      "provenance": []
    },
    "kernelspec": {
      "name": "python3",
      "display_name": "Python 3"
    },
    "language_info": {
      "name": "python"
    }
  },
  "cells": [
    {
      "cell_type": "markdown",
      "source": [
        "Dados dos conjuntos, A y B, escribe un programa en Python que imprima los\n",
        "elementos que se encuentran en A o en B, o en ambo"
      ],
      "metadata": {
        "id": "R7s9mfxyE_Re"
      }
    },
    {
      "cell_type": "code",
      "source": [
        "conjunto_a = {1,2,34,534,37,88}\n",
        "conjunto_b = {55,67,8,99,10,1,2}\n",
        "interseccion_conjuntos_a_y_b = conjunto_a & conjunto_b\n",
        "print(conjunto_a)\n",
        "print(conjunto_b)\n",
        "print(interseccion_conjuntos_a_y_b)"
      ],
      "metadata": {
        "colab": {
          "base_uri": "https://localhost:8080/"
        },
        "id": "Vt_BoCTuFA8L",
        "outputId": "72e8be47-a39c-4ebb-dae4-016e17b187ba"
      },
      "execution_count": 2,
      "outputs": [
        {
          "output_type": "stream",
          "name": "stdout",
          "text": [
            "{1, 2, 34, 37, 534, 88}\n",
            "{1, 2, 67, 99, 55, 8, 10}\n",
            "{1, 2}\n"
          ]
        }
      ]
    },
    {
      "cell_type": "markdown",
      "source": [
        "Dados dos conjuntos, A y B, escribe un programa en Python que imprima el\n",
        "conjunto de los elementos que se encuentran en A o en B, pero no en ambos"
      ],
      "metadata": {
        "id": "FwPJ74BWGZbj"
      }
    },
    {
      "cell_type": "markdown",
      "source": [],
      "metadata": {
        "id": "_dwJIgxpHfzA"
      }
    },
    {
      "cell_type": "code",
      "source": [
        "conjunto_a = {1,2,34,534,37,88}\n",
        "conjunto_b = {55,67,8,99,10,1,2}\n",
        "print(conjunto_a.symmetric_difference(conjunto_b))"
      ],
      "metadata": {
        "colab": {
          "base_uri": "https://localhost:8080/"
        },
        "id": "4kSkNcugG8uS",
        "outputId": "8d754b7b-8846-4d0e-c8df-fa66973339dc"
      },
      "execution_count": 3,
      "outputs": [
        {
          "output_type": "stream",
          "name": "stdout",
          "text": [
            "{67, 8, 10, 534, 88, 34, 99, 37, 55}\n"
          ]
        }
      ]
    },
    {
      "cell_type": "markdown",
      "source": [
        "Dados un conjunto, A, escribe un programa en Python que imprima si el conjunto es\n",
        "un subconjunto de otro conjunto, B."
      ],
      "metadata": {
        "id": "IIi1FmAgHlCQ"
      }
    },
    {
      "cell_type": "code",
      "source": [
        "conjunto_a = {1,2,34,534,37,88}\n",
        "conjunto_b = {55,67,8,99,10,1,2}\n",
        "print(conjunto_a.issubset(conjunto_b))"
      ],
      "metadata": {
        "colab": {
          "base_uri": "https://localhost:8080/"
        },
        "id": "aYoHqnq1HoUB",
        "outputId": "e02f3987-9256-40e4-f3f9-506a9a8509cf"
      },
      "execution_count": 4,
      "outputs": [
        {
          "output_type": "stream",
          "name": "stdout",
          "text": [
            "False\n"
          ]
        }
      ]
    },
    {
      "cell_type": "markdown",
      "source": [
        "Dados un conjunto, A, escribe un programa en Python que imprima el número de\n",
        "elementos del conjunto."
      ],
      "metadata": {
        "id": "XD1ctVhWH2E9"
      }
    },
    {
      "cell_type": "code",
      "source": [
        "conjunto_a = {1,2,34,534,37,88}\n",
        "conjunto_b = {55,67,8,99,10,1,2}\n",
        "def cuantos_elementos_tiene_un_conjunto(conjunto):\n",
        "  cantidad_de_elemetos = len(conjunto)\n",
        "  return cantidad_de_elemetos\n",
        "cuantos_elementos_tiene_un_conjunto(conjunto_b)"
      ],
      "metadata": {
        "colab": {
          "base_uri": "https://localhost:8080/"
        },
        "id": "26wXht8WH92S",
        "outputId": "60c17196-cabc-4dac-cf71-28f011d95154"
      },
      "execution_count": 7,
      "outputs": [
        {
          "output_type": "execute_result",
          "data": {
            "text/plain": [
              "7"
            ]
          },
          "metadata": {},
          "execution_count": 7
        }
      ]
    }
  ]
}